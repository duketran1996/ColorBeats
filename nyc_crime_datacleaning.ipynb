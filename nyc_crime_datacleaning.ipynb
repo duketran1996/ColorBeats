{
  "nbformat": 4,
  "nbformat_minor": 0,
  "metadata": {
    "colab": {
      "name": "nyc-crime-datacleaning.ipynb",
      "provenance": [],
      "collapsed_sections": [],
      "include_colab_link": true
    },
    "kernelspec": {
      "name": "python3",
      "display_name": "Python 3"
    },
    "language_info": {
      "name": "python"
    }
  },
  "cells": [
    {
      "cell_type": "markdown",
      "metadata": {
        "id": "view-in-github",
        "colab_type": "text"
      },
      "source": [
        "<a href=\"https://colab.research.google.com/github/duketran1996/ColorBeats/blob/master/nyc_crime_datacleaning.ipynb\" target=\"_parent\"><img src=\"https://colab.research.google.com/assets/colab-badge.svg\" alt=\"Open In Colab\"/></a>"
      ]
    },
    {
      "cell_type": "markdown",
      "metadata": {
        "id": "TKiDEwQZXvKP"
      },
      "source": [
        "**Install openclean.**"
      ]
    },
    {
      "cell_type": "code",
      "metadata": {
        "id": "gXhvECdv5nuj",
        "colab": {
          "base_uri": "https://localhost:8080/",
          "height": 973
        },
        "outputId": "00b19aac-923e-4237-a8ec-e080dc403d49"
      },
      "source": [
        "pip install openclean-core"
      ],
      "execution_count": 116,
      "outputs": [
        {
          "output_type": "stream",
          "text": [
            "Requirement already satisfied: openclean-core in /usr/local/lib/python3.7/dist-packages (0.3.1)\n",
            "Requirement already satisfied: flowserv-core>=0.8.0 in /usr/local/lib/python3.7/dist-packages (from openclean-core) (0.8.0)\n",
            "Requirement already satisfied: jellyfish in /usr/local/lib/python3.7/dist-packages (from openclean-core) (0.8.2)\n",
            "Requirement already satisfied: python-dateutil in /usr/local/lib/python3.7/dist-packages (from openclean-core) (2.8.1)\n",
            "Requirement already satisfied: dill in /usr/local/lib/python3.7/dist-packages (from openclean-core) (0.3.3)\n",
            "Requirement already satisfied: requests in /usr/local/lib/python3.7/dist-packages (from openclean-core) (2.23.0)\n",
            "Requirement already satisfied: jsonschema>=3.2.0 in /usr/local/lib/python3.7/dist-packages (from openclean-core) (3.2.0)\n",
            "Requirement already satisfied: pandas>=1.0.0 in /usr/local/lib/python3.7/dist-packages (from openclean-core) (1.1.5)\n",
            "Requirement already satisfied: appdirs>=1.4.4 in /usr/local/lib/python3.7/dist-packages (from openclean-core) (1.4.4)\n",
            "Requirement already satisfied: future in /usr/local/lib/python3.7/dist-packages (from openclean-core) (0.16.0)\n",
            "Requirement already satisfied: histore==0.3.1 in /usr/local/lib/python3.7/dist-packages (from openclean-core) (0.3.1)\n",
            "Requirement already satisfied: refdata>=0.2.0 in /usr/local/lib/python3.7/dist-packages (from openclean-core) (0.2.0)\n",
            "Requirement already satisfied: scikit-learn in /usr/local/lib/python3.7/dist-packages (from openclean-core) (0.22.2.post1)\n",
            "Requirement already satisfied: scipy in /usr/local/lib/python3.7/dist-packages (from openclean-core) (1.4.1)\n",
            "Requirement already satisfied: passlib in /usr/local/lib/python3.7/dist-packages (from flowserv-core>=0.8.0->openclean-core) (1.7.4)\n",
            "Requirement already satisfied: Click in /usr/local/lib/python3.7/dist-packages (from flowserv-core>=0.8.0->openclean-core) (7.1.2)\n",
            "Requirement already satisfied: SQLAlchemy>=1.3.18 in /usr/local/lib/python3.7/dist-packages (from flowserv-core>=0.8.0->openclean-core) (1.4.3)\n",
            "Collecting pyyaml>=5.1\n",
            "\u001b[?25l  Downloading https://files.pythonhosted.org/packages/7a/a5/393c087efdc78091afa2af9f1378762f9821c9c1d7a22c5753fb5ac5f97a/PyYAML-5.4.1-cp37-cp37m-manylinux1_x86_64.whl (636kB)\n",
            "\u001b[K     |████████████████████████████████| 645kB 5.7MB/s \n",
            "\u001b[?25hRequirement already satisfied: gitpython in /usr/local/lib/python3.7/dist-packages (from flowserv-core>=0.8.0->openclean-core) (3.1.14)\n",
            "Requirement already satisfied: six>=1.5 in /usr/local/lib/python3.7/dist-packages (from python-dateutil->openclean-core) (1.15.0)\n",
            "Requirement already satisfied: chardet<4,>=3.0.2 in /usr/local/lib/python3.7/dist-packages (from requests->openclean-core) (3.0.4)\n",
            "Requirement already satisfied: certifi>=2017.4.17 in /usr/local/lib/python3.7/dist-packages (from requests->openclean-core) (2020.12.5)\n",
            "Requirement already satisfied: idna<3,>=2.5 in /usr/local/lib/python3.7/dist-packages (from requests->openclean-core) (2.10)\n",
            "Requirement already satisfied: urllib3!=1.25.0,!=1.25.1,<1.26,>=1.21.1 in /usr/local/lib/python3.7/dist-packages (from requests->openclean-core) (1.24.3)\n",
            "Requirement already satisfied: setuptools in /usr/local/lib/python3.7/dist-packages (from jsonschema>=3.2.0->openclean-core) (54.2.0)\n",
            "Requirement already satisfied: attrs>=17.4.0 in /usr/local/lib/python3.7/dist-packages (from jsonschema>=3.2.0->openclean-core) (20.3.0)\n",
            "Requirement already satisfied: importlib-metadata; python_version < \"3.8\" in /usr/local/lib/python3.7/dist-packages (from jsonschema>=3.2.0->openclean-core) (3.8.1)\n",
            "Requirement already satisfied: pyrsistent>=0.14.0 in /usr/local/lib/python3.7/dist-packages (from jsonschema>=3.2.0->openclean-core) (0.17.3)\n",
            "Requirement already satisfied: numpy>=1.15.4 in /usr/local/lib/python3.7/dist-packages (from pandas>=1.0.0->openclean-core) (1.19.5)\n",
            "Requirement already satisfied: pytz>=2017.2 in /usr/local/lib/python3.7/dist-packages (from pandas>=1.0.0->openclean-core) (2018.9)\n",
            "Requirement already satisfied: psutil in /usr/local/lib/python3.7/dist-packages (from histore==0.3.1->openclean-core) (5.4.8)\n",
            "Requirement already satisfied: datasize>=1.0.0 in /usr/local/lib/python3.7/dist-packages (from refdata>=0.2.0->openclean-core) (1.0.0)\n",
            "Requirement already satisfied: pooch>=1.3.0 in /usr/local/lib/python3.7/dist-packages (from refdata>=0.2.0->openclean-core) (1.3.0)\n",
            "Requirement already satisfied: tableprint in /usr/local/lib/python3.7/dist-packages (from refdata>=0.2.0->openclean-core) (0.9.1)\n",
            "Requirement already satisfied: joblib>=0.11 in /usr/local/lib/python3.7/dist-packages (from scikit-learn->openclean-core) (1.0.1)\n",
            "Requirement already satisfied: greenlet!=0.4.17; python_version >= \"3\" in /usr/local/lib/python3.7/dist-packages (from SQLAlchemy>=1.3.18->flowserv-core>=0.8.0->openclean-core) (1.0.0)\n",
            "Requirement already satisfied: gitdb<5,>=4.0.1 in /usr/local/lib/python3.7/dist-packages (from gitpython->flowserv-core>=0.8.0->openclean-core) (4.0.7)\n",
            "Requirement already satisfied: zipp>=0.5 in /usr/local/lib/python3.7/dist-packages (from importlib-metadata; python_version < \"3.8\"->jsonschema>=3.2.0->openclean-core) (3.4.1)\n",
            "Requirement already satisfied: typing-extensions>=3.6.4; python_version < \"3.8\" in /usr/local/lib/python3.7/dist-packages (from importlib-metadata; python_version < \"3.8\"->jsonschema>=3.2.0->openclean-core) (3.7.4.3)\n",
            "Requirement already satisfied: packaging in /usr/local/lib/python3.7/dist-packages (from pooch>=1.3.0->refdata>=0.2.0->openclean-core) (20.9)\n",
            "Requirement already satisfied: wcwidth in /usr/local/lib/python3.7/dist-packages (from tableprint->refdata>=0.2.0->openclean-core) (0.2.5)\n",
            "Requirement already satisfied: smmap<5,>=3.0.1 in /usr/local/lib/python3.7/dist-packages (from gitdb<5,>=4.0.1->gitpython->flowserv-core>=0.8.0->openclean-core) (4.0.0)\n",
            "Requirement already satisfied: pyparsing>=2.0.2 in /usr/local/lib/python3.7/dist-packages (from packaging->pooch>=1.3.0->refdata>=0.2.0->openclean-core) (2.4.7)\n",
            "Installing collected packages: pyyaml\n",
            "  Found existing installation: PyYAML 3.13\n",
            "    Uninstalling PyYAML-3.13:\n",
            "      Successfully uninstalled PyYAML-3.13\n",
            "Successfully installed pyyaml-5.4.1\n"
          ],
          "name": "stdout"
        },
        {
          "output_type": "display_data",
          "data": {
            "application/vnd.colab-display-data+json": {
              "pip_warning": {
                "packages": [
                  "yaml"
                ]
              }
            }
          },
          "metadata": {
            "tags": []
          }
        }
      ]
    },
    {
      "cell_type": "markdown",
      "metadata": {
        "id": "w2h1vQNHXf-w"
      },
      "source": [
        "**Loading the data file using Socrata. The file is NYPD Arrest Data (Year to Date) as listed below.**\n",
        "\n"
      ]
    },
    {
      "cell_type": "code",
      "metadata": {
        "id": "FC9AfM9-7N0Y"
      },
      "source": [
        "import gzip\n",
        "import os\n",
        "\n",
        "from openclean.data.source.socrata import Socrata\n",
        "\n",
        "datafile = './uip8-fykc.tsv.gz'\n",
        "\n",
        "# Download file only if it does not exist already.\n",
        "if not os.path.isfile(datafile):\n",
        "    with gzip.open(datafile, 'wb') as f:\n",
        "        ds = Socrata().dataset('uip8-fykc')\n",
        "        print('Downloading ...\\n')\n",
        "        print(ds.name + '\\n')\n",
        "        print(ds.description)\n",
        "        ds.write(f)"
      ],
      "execution_count": 139,
      "outputs": []
    },
    {
      "cell_type": "markdown",
      "metadata": {
        "id": "gMOErlDfykkd"
      },
      "source": [
        "**Important import. Run before executing the rest**"
      ]
    },
    {
      "cell_type": "code",
      "metadata": {
        "id": "XInFJlzvyqVa"
      },
      "source": [
        "from openclean.cluster.knn import knn_clusters, knn_collision_clusters\n",
        "from openclean.function.similarity.base import SimilarityConstraint\n",
        "from openclean.function.similarity.text import LevenshteinDistance\n",
        "from openclean.function.token.ngram import NGrams\n",
        "from openclean.function.value.threshold import GreaterThan\n",
        "\n",
        "from openclean.operator.transform.update import update"
      ],
      "execution_count": 140,
      "outputs": []
    },
    {
      "cell_type": "markdown",
      "metadata": {
        "id": "cwmbhpORX2u1"
      },
      "source": [
        "**Data study: List number of columns.**"
      ]
    },
    {
      "cell_type": "code",
      "metadata": {
        "colab": {
          "base_uri": "https://localhost:8080/"
        },
        "id": "N7GriJ2Y71-n",
        "outputId": "26479279-a629-49fd-c4da-9239822c2a81"
      },
      "source": [
        "from openclean.pipeline import stream\n",
        "\n",
        "ds = stream(datafile)\n",
        "\n",
        "\n",
        "print('Schema\\n------')\n",
        "for col in ds.columns:\n",
        "    print(\"  '{}'\".format(col))\n",
        "    \n",
        "print('\\n{} rows.'.format(ds.count()))\n",
        "print(\"There are {} rows and {} columns in the dataset.\".format(ds.count(),len(ds.columns)))"
      ],
      "execution_count": 141,
      "outputs": [
        {
          "output_type": "stream",
          "text": [
            "Schema\n",
            "------\n",
            "  'ARREST_KEY'\n",
            "  'ARREST_DATE'\n",
            "  'PD_CD'\n",
            "  'PD_DESC'\n",
            "  'KY_CD'\n",
            "  'OFNS_DESC'\n",
            "  'LAW_CODE'\n",
            "  'LAW_CAT_CD'\n",
            "  'ARREST_BORO'\n",
            "  'ARREST_PRECINCT'\n",
            "  'JURISDICTION_CODE'\n",
            "  'AGE_GROUP'\n",
            "  'PERP_SEX'\n",
            "  'PERP_RACE'\n",
            "  'X_COORD_CD'\n",
            "  'Y_COORD_CD'\n",
            "  'Latitude'\n",
            "  'Longitude'\n",
            "  'New Georeferenced Column'\n",
            "\n",
            "140413 rows.\n",
            "There are 140413 rows and 19 columns in the dataset.\n"
          ],
          "name": "stdout"
        }
      ]
    },
    {
      "cell_type": "markdown",
      "metadata": {
        "id": "nHQqL_UayHzV"
      },
      "source": [
        "**Convert to data frame for fixing issues.**"
      ]
    },
    {
      "cell_type": "code",
      "metadata": {
        "id": "FuerqcFXyQ_o"
      },
      "source": [
        "fix = ds.to_df()"
      ],
      "execution_count": 142,
      "outputs": []
    },
    {
      "cell_type": "markdown",
      "metadata": {
        "id": "PqWS3T2TX-Yh"
      },
      "source": [
        "**Data study: Profile a sample of 10000 data to detect issues.**"
      ]
    },
    {
      "cell_type": "code",
      "metadata": {
        "id": "W0PYjb8L8Plx"
      },
      "source": [
        "from openclean.profiling.column import DefaultColumnProfiler\n",
        "\n",
        "profiles = ds.sample(n=10000, random_state=42).profile(default_profiler=DefaultColumnProfiler)"
      ],
      "execution_count": 143,
      "outputs": []
    },
    {
      "cell_type": "code",
      "metadata": {
        "colab": {
          "base_uri": "https://localhost:8080/",
          "height": 638
        },
        "id": "6Gu8wVKpAEgp",
        "outputId": "38b7e627-3a28-461c-f739-75fd7260c418"
      },
      "source": [
        "profiles.stats()"
      ],
      "execution_count": 144,
      "outputs": [
        {
          "output_type": "execute_result",
          "data": {
            "text/html": [
              "<div>\n",
              "<style scoped>\n",
              "    .dataframe tbody tr th:only-of-type {\n",
              "        vertical-align: middle;\n",
              "    }\n",
              "\n",
              "    .dataframe tbody tr th {\n",
              "        vertical-align: top;\n",
              "    }\n",
              "\n",
              "    .dataframe thead th {\n",
              "        text-align: right;\n",
              "    }\n",
              "</style>\n",
              "<table border=\"1\" class=\"dataframe\">\n",
              "  <thead>\n",
              "    <tr style=\"text-align: right;\">\n",
              "      <th></th>\n",
              "      <th>total</th>\n",
              "      <th>empty</th>\n",
              "      <th>distinct</th>\n",
              "      <th>uniqueness</th>\n",
              "      <th>entropy</th>\n",
              "    </tr>\n",
              "  </thead>\n",
              "  <tbody>\n",
              "    <tr>\n",
              "      <th>ARREST_KEY</th>\n",
              "      <td>10000</td>\n",
              "      <td>0</td>\n",
              "      <td>10000</td>\n",
              "      <td>1.000000</td>\n",
              "      <td>13.287712</td>\n",
              "    </tr>\n",
              "    <tr>\n",
              "      <th>ARREST_DATE</th>\n",
              "      <td>10000</td>\n",
              "      <td>0</td>\n",
              "      <td>366</td>\n",
              "      <td>0.036600</td>\n",
              "      <td>8.400455</td>\n",
              "    </tr>\n",
              "    <tr>\n",
              "      <th>PD_CD</th>\n",
              "      <td>10000</td>\n",
              "      <td>3</td>\n",
              "      <td>177</td>\n",
              "      <td>0.017705</td>\n",
              "      <td>5.371204</td>\n",
              "    </tr>\n",
              "    <tr>\n",
              "      <th>PD_DESC</th>\n",
              "      <td>10000</td>\n",
              "      <td>3</td>\n",
              "      <td>170</td>\n",
              "      <td>0.017005</td>\n",
              "      <td>5.340061</td>\n",
              "    </tr>\n",
              "    <tr>\n",
              "      <th>KY_CD</th>\n",
              "      <td>10000</td>\n",
              "      <td>3</td>\n",
              "      <td>62</td>\n",
              "      <td>0.006202</td>\n",
              "      <td>4.507652</td>\n",
              "    </tr>\n",
              "    <tr>\n",
              "      <th>OFNS_DESC</th>\n",
              "      <td>10000</td>\n",
              "      <td>3</td>\n",
              "      <td>55</td>\n",
              "      <td>0.005502</td>\n",
              "      <td>4.304735</td>\n",
              "    </tr>\n",
              "    <tr>\n",
              "      <th>LAW_CODE</th>\n",
              "      <td>10000</td>\n",
              "      <td>0</td>\n",
              "      <td>434</td>\n",
              "      <td>0.043400</td>\n",
              "      <td>6.283008</td>\n",
              "    </tr>\n",
              "    <tr>\n",
              "      <th>LAW_CAT_CD</th>\n",
              "      <td>10000</td>\n",
              "      <td>99</td>\n",
              "      <td>4</td>\n",
              "      <td>0.000404</td>\n",
              "      <td>1.042850</td>\n",
              "    </tr>\n",
              "    <tr>\n",
              "      <th>ARREST_BORO</th>\n",
              "      <td>10000</td>\n",
              "      <td>0</td>\n",
              "      <td>5</td>\n",
              "      <td>0.000500</td>\n",
              "      <td>2.165878</td>\n",
              "    </tr>\n",
              "    <tr>\n",
              "      <th>ARREST_PRECINCT</th>\n",
              "      <td>10000</td>\n",
              "      <td>0</td>\n",
              "      <td>77</td>\n",
              "      <td>0.007700</td>\n",
              "      <td>6.092032</td>\n",
              "    </tr>\n",
              "    <tr>\n",
              "      <th>JURISDICTION_CODE</th>\n",
              "      <td>10000</td>\n",
              "      <td>0</td>\n",
              "      <td>20</td>\n",
              "      <td>0.002000</td>\n",
              "      <td>0.603136</td>\n",
              "    </tr>\n",
              "    <tr>\n",
              "      <th>AGE_GROUP</th>\n",
              "      <td>10000</td>\n",
              "      <td>0</td>\n",
              "      <td>5</td>\n",
              "      <td>0.000500</td>\n",
              "      <td>1.674919</td>\n",
              "    </tr>\n",
              "    <tr>\n",
              "      <th>PERP_SEX</th>\n",
              "      <td>10000</td>\n",
              "      <td>0</td>\n",
              "      <td>2</td>\n",
              "      <td>0.000200</td>\n",
              "      <td>0.651259</td>\n",
              "    </tr>\n",
              "    <tr>\n",
              "      <th>PERP_RACE</th>\n",
              "      <td>10000</td>\n",
              "      <td>0</td>\n",
              "      <td>7</td>\n",
              "      <td>0.000700</td>\n",
              "      <td>1.932644</td>\n",
              "    </tr>\n",
              "    <tr>\n",
              "      <th>X_COORD_CD</th>\n",
              "      <td>10000</td>\n",
              "      <td>0</td>\n",
              "      <td>5319</td>\n",
              "      <td>0.531900</td>\n",
              "      <td>11.298358</td>\n",
              "    </tr>\n",
              "    <tr>\n",
              "      <th>Y_COORD_CD</th>\n",
              "      <td>10000</td>\n",
              "      <td>0</td>\n",
              "      <td>5402</td>\n",
              "      <td>0.540200</td>\n",
              "      <td>11.319046</td>\n",
              "    </tr>\n",
              "    <tr>\n",
              "      <th>Latitude</th>\n",
              "      <td>10000</td>\n",
              "      <td>0</td>\n",
              "      <td>5559</td>\n",
              "      <td>0.555900</td>\n",
              "      <td>11.359767</td>\n",
              "    </tr>\n",
              "    <tr>\n",
              "      <th>Longitude</th>\n",
              "      <td>10000</td>\n",
              "      <td>0</td>\n",
              "      <td>5559</td>\n",
              "      <td>0.555900</td>\n",
              "      <td>11.359767</td>\n",
              "    </tr>\n",
              "    <tr>\n",
              "      <th>New Georeferenced Column</th>\n",
              "      <td>10000</td>\n",
              "      <td>0</td>\n",
              "      <td>5559</td>\n",
              "      <td>0.555900</td>\n",
              "      <td>11.359767</td>\n",
              "    </tr>\n",
              "  </tbody>\n",
              "</table>\n",
              "</div>"
            ],
            "text/plain": [
              "                          total  empty  distinct  uniqueness    entropy\n",
              "ARREST_KEY                10000      0     10000    1.000000  13.287712\n",
              "ARREST_DATE               10000      0       366    0.036600   8.400455\n",
              "PD_CD                     10000      3       177    0.017705   5.371204\n",
              "PD_DESC                   10000      3       170    0.017005   5.340061\n",
              "KY_CD                     10000      3        62    0.006202   4.507652\n",
              "OFNS_DESC                 10000      3        55    0.005502   4.304735\n",
              "LAW_CODE                  10000      0       434    0.043400   6.283008\n",
              "LAW_CAT_CD                10000     99         4    0.000404   1.042850\n",
              "ARREST_BORO               10000      0         5    0.000500   2.165878\n",
              "ARREST_PRECINCT           10000      0        77    0.007700   6.092032\n",
              "JURISDICTION_CODE         10000      0        20    0.002000   0.603136\n",
              "AGE_GROUP                 10000      0         5    0.000500   1.674919\n",
              "PERP_SEX                  10000      0         2    0.000200   0.651259\n",
              "PERP_RACE                 10000      0         7    0.000700   1.932644\n",
              "X_COORD_CD                10000      0      5319    0.531900  11.298358\n",
              "Y_COORD_CD                10000      0      5402    0.540200  11.319046\n",
              "Latitude                  10000      0      5559    0.555900  11.359767\n",
              "Longitude                 10000      0      5559    0.555900  11.359767\n",
              "New Georeferenced Column  10000      0      5559    0.555900  11.359767"
            ]
          },
          "metadata": {
            "tags": []
          },
          "execution_count": 144
        }
      ]
    },
    {
      "cell_type": "markdown",
      "metadata": {
        "id": "H_fC4fPgJ8DO"
      },
      "source": [
        "**Data Issues: In OFNS_DESC column, there are many repeated and miss spelling that needs to merge and fix. The impact with this change is later we would like to catergories offenses and have statistics on it.**"
      ]
    },
    {
      "cell_type": "code",
      "metadata": {
        "colab": {
          "base_uri": "https://localhost:8080/"
        },
        "id": "uYf1O52RYd9s",
        "outputId": "5f64bfca-92f0-4c45-f42b-4de9e1e1c831"
      },
      "source": [
        "offense = ds.select('OFNS_DESC').distinct()\n",
        "\n",
        "clusters = knn_clusters(\n",
        "  values=offense,\n",
        "  sim=SimilarityConstraint(func=LevenshteinDistance(), pred=GreaterThan(0.7)),\n",
        "  tokenizer=NGrams(n=4),\n",
        "  minsize=2\n",
        ")\n",
        "\n",
        "for i in clusters:\n",
        "  print(i)"
      ],
      "execution_count": 145,
      "outputs": [
        {
          "output_type": "stream",
          "text": [
            "Cluster({'OFFENSES AGAINST PUBLIC ADMINI': 4925, 'OFFENSES AGAINST PUBLIC SAFETY': 84})\n",
            "Cluster({'KIDNAPPING & RELATED OFFENSES': 44, 'KIDNAPPING AND RELATED OFFENSES': 1})\n",
            "Cluster({'INTOXICATED & IMPAIRED DRIVING': 2299, 'INTOXICATED/IMPAIRED DRIVING': 346})\n",
            "Cluster({'OTHER STATE LAWS (NON PENAL LA': 536, 'OTHER STATE LAWS (NON PENAL LAW)': 5})\n",
            "Cluster({'ADMINISTRATIVE CODE': 126, 'ADMINISTRATIVE CODES': 1})\n"
          ],
          "name": "stdout"
        }
      ]
    },
    {
      "cell_type": "code",
      "metadata": {
        "colab": {
          "base_uri": "https://localhost:8080/"
        },
        "id": "MiyrpAI5CBe1",
        "outputId": "3194aecb-ffad-44ca-af01-7dc48f4334cd"
      },
      "source": [
        "offense = ds.select(['OFNS_DESC']).distinct()\n",
        "\n",
        "kid_val = []\n",
        "\n",
        "for i in offense:\n",
        "  if 'KIDNAPPING' in i:\n",
        "    kid_val.append(i)\n",
        "    print(i)"
      ],
      "execution_count": 146,
      "outputs": [
        {
          "output_type": "stream",
          "text": [
            "KIDNAPPING & RELATED OFFENSES\n",
            "KIDNAPPING AND RELATED OFFENSES\n",
            "KIDNAPPING\n"
          ],
          "name": "stdout"
        }
      ]
    },
    {
      "cell_type": "markdown",
      "metadata": {
        "id": "enfAFLFv5sTL"
      },
      "source": [
        "**Data fix: Change KIDNAPPING and KIDNAPPING & RELATED OFFENSES to KIDNAPPING AND RELATED OFFENSES**"
      ]
    },
    {
      "cell_type": "code",
      "metadata": {
        "colab": {
          "base_uri": "https://localhost:8080/"
        },
        "id": "EaMhHZ2K55nh",
        "outputId": "640cef30-555f-4fdb-b61b-9d53c643c3dd"
      },
      "source": [
        "kid_dict = {\n",
        "    'KIDNAPPING & RELATED OFFENSES': 'KIDNAPPING AND RELATED OFFENSES',\n",
        "    'KIDNAPPING': 'KIDNAPPING AND RELATED OFFENSES'\n",
        "}\n",
        "\n",
        "fix = update(fix, columns='OFNS_DESC', func=kid_dict)\n",
        "\n",
        "check_fix = fix.loc[fix['OFNS_DESC'].isin(kid_val)]\n",
        "check_fix['OFNS_DESC'].unique()"
      ],
      "execution_count": 147,
      "outputs": [
        {
          "output_type": "execute_result",
          "data": {
            "text/plain": [
              "array(['KIDNAPPING AND RELATED OFFENSES'], dtype=object)"
            ]
          },
          "metadata": {
            "tags": []
          },
          "execution_count": 147
        }
      ]
    },
    {
      "cell_type": "code",
      "metadata": {
        "colab": {
          "base_uri": "https://localhost:8080/"
        },
        "id": "H4AaZkEiKbd2",
        "outputId": "e75a7593-71bb-4331-f216-659d321dcaef"
      },
      "source": [
        "offense = ds.select('OFNS_DESC').distinct()\n",
        "administrative_val = []\n",
        "for i in offense:\n",
        "  if 'ADMINISTRATIVE' in i:\n",
        "    administrative_val.append(i)\n",
        "    print(i)"
      ],
      "execution_count": 148,
      "outputs": [
        {
          "output_type": "stream",
          "text": [
            "ADMINISTRATIVE CODES\n",
            "ADMINISTRATIVE CODE\n"
          ],
          "name": "stdout"
        }
      ]
    },
    {
      "cell_type": "markdown",
      "metadata": {
        "id": "mTjYEMSy2k2O"
      },
      "source": [
        "**Data fix: Change ADMINISTRATIVE CODES to ADMINISTRATIVE CODE**"
      ]
    },
    {
      "cell_type": "code",
      "metadata": {
        "colab": {
          "base_uri": "https://localhost:8080/"
        },
        "id": "nOZydo4Z2_XY",
        "outputId": "bd7e777d-41ac-432a-ffce-02d6c2ca288d"
      },
      "source": [
        "ad_dict = {\n",
        "    'ADMINISTRATIVE CODES': 'ADMINISTRATIVE CODE',\n",
        "}\n",
        "\n",
        "fix = update(fix, columns='OFNS_DESC', func=ad_dict)\n",
        "\n",
        "check_fix = fix.loc[fix['OFNS_DESC'].isin(administrative_val)]\n",
        "check_fix['OFNS_DESC'].unique()"
      ],
      "execution_count": 149,
      "outputs": [
        {
          "output_type": "execute_result",
          "data": {
            "text/plain": [
              "array(['ADMINISTRATIVE CODE'], dtype=object)"
            ]
          },
          "metadata": {
            "tags": []
          },
          "execution_count": 149
        }
      ]
    },
    {
      "cell_type": "code",
      "metadata": {
        "colab": {
          "base_uri": "https://localhost:8080/"
        },
        "id": "QUZGu3ySLQAW",
        "outputId": "159f5e0a-7196-47e8-d1fe-ba4dcfd18d9d"
      },
      "source": [
        "offense = ds.select('OFNS_DESC').distinct()\n",
        "tox_val = []\n",
        "for i in offense:\n",
        "  if 'INTOXICATED' in i:\n",
        "    tox_val.append(i)\n",
        "    print(i)"
      ],
      "execution_count": 150,
      "outputs": [
        {
          "output_type": "stream",
          "text": [
            "INTOXICATED & IMPAIRED DRIVING\n",
            "INTOXICATED/IMPAIRED DRIVING\n"
          ],
          "name": "stdout"
        }
      ]
    },
    {
      "cell_type": "markdown",
      "metadata": {
        "id": "W4oKuSUB62qm"
      },
      "source": [
        "**Data fix: Change INTOXICATED & IMPAIRED DRIVING, INTOXICATED/IMPAIRED DRIVING to INTOXICATED AND IMPAIRED DRIVING**"
      ]
    },
    {
      "cell_type": "code",
      "metadata": {
        "colab": {
          "base_uri": "https://localhost:8080/"
        },
        "id": "-c-uL3cx7AyS",
        "outputId": "f00c9947-0fd7-4cc2-c2eb-fb51b38af56c"
      },
      "source": [
        "tox_dict = {\n",
        "    'INTOXICATED & IMPAIRED DRIVING': 'INTOXICATED AND IMPAIRED DRIVING',\n",
        "    'INTOXICATED/IMPAIRED DRIVING': 'INTOXICATED AND IMPAIRED DRIVING'\n",
        "}\n",
        "\n",
        "fix = update(fix, columns='OFNS_DESC', func=tox_dict)\n",
        "\n",
        "check_fix = fix.loc[fix['OFNS_DESC'].isin(['INTOXICATED AND IMPAIRED DRIVING'] + tox_val)]\n",
        "check_fix['OFNS_DESC'].unique()"
      ],
      "execution_count": 151,
      "outputs": [
        {
          "output_type": "execute_result",
          "data": {
            "text/plain": [
              "array(['INTOXICATED AND IMPAIRED DRIVING'], dtype=object)"
            ]
          },
          "metadata": {
            "tags": []
          },
          "execution_count": 151
        }
      ]
    },
    {
      "cell_type": "markdown",
      "metadata": {
        "id": "JroQPYEAdJc9"
      },
      "source": [
        "**Data issues: The borough of NYC that the arrest happen. The data K,M,B,Q,S is unclear to us.**"
      ]
    },
    {
      "cell_type": "code",
      "metadata": {
        "colab": {
          "base_uri": "https://localhost:8080/"
        },
        "id": "5eDabtNYc7oZ",
        "outputId": "9b804e98-f4ff-4fc0-c379-3be5f766af60"
      },
      "source": [
        "# Print the values in decreasing order of frequency.\n",
        "\n",
        "states = ds.distinct('ARREST_BORO')\n",
        "for rank, val in enumerate(states.most_common()):\n",
        "    st, freq = val\n",
        "    print('{:<3} {}  {:>10}'.format('{}.'.format(rank + 1), st, '{:,}'.format(freq)))"
      ],
      "execution_count": 152,
      "outputs": [
        {
          "output_type": "stream",
          "text": [
            "1.  K      38,258\n",
            "2.  M      33,255\n",
            "3.  B      32,724\n",
            "4.  Q      29,981\n",
            "5.  S       6,195\n"
          ],
          "name": "stdout"
        }
      ]
    },
    {
      "cell_type": "markdown",
      "metadata": {
        "id": "yJ19nYp71tmK"
      },
      "source": [
        "**Data fix: Change ambiguous abbreviation of column ARREST_BORO to full form.**"
      ]
    },
    {
      "cell_type": "code",
      "metadata": {
        "colab": {
          "base_uri": "https://localhost:8080/"
        },
        "id": "LpzELgst14dz",
        "outputId": "5b2e40c8-0241-47a8-b0dd-2d42e2e8e8f0"
      },
      "source": [
        "boro_dict = {\n",
        "    'B': 'Bronx',\n",
        "    'S': 'Staten Island',\n",
        "    'K': 'Brooklyn',\n",
        "    'M': 'Manhattan',\n",
        "    'Q': 'Queens',\n",
        "}\n",
        "\n",
        "fix = update(fix, columns='ARREST_BORO', func=boro_dict)\n",
        "\n",
        "fix['ARREST_BORO'].unique()"
      ],
      "execution_count": 153,
      "outputs": [
        {
          "output_type": "execute_result",
          "data": {
            "text/plain": [
              "array(['Bronx', 'Queens', 'Manhattan', 'Brooklyn', 'Staten Island'],\n",
              "      dtype=object)"
            ]
          },
          "metadata": {
            "tags": []
          },
          "execution_count": 153
        }
      ]
    },
    {
      "cell_type": "markdown",
      "metadata": {
        "id": "u8kR6QzHdmlY"
      },
      "source": [
        "**Data issues: The columns PERP_SEX and LAW_CAT_CD are also having values that is easier to read if written in full text instead of abbreviation.**"
      ]
    },
    {
      "cell_type": "code",
      "metadata": {
        "colab": {
          "base_uri": "https://localhost:8080/"
        },
        "id": "Osf4ut-deAFT",
        "outputId": "1d490155-3c41-41f3-a191-218a8f1d2dd6"
      },
      "source": [
        "sex = ds.distinct('PERP_SEX')\n",
        "\n",
        "for i in sex:\n",
        "  print(i)"
      ],
      "execution_count": 154,
      "outputs": [
        {
          "output_type": "stream",
          "text": [
            "M\n",
            "F\n"
          ],
          "name": "stdout"
        }
      ]
    },
    {
      "cell_type": "code",
      "metadata": {
        "colab": {
          "base_uri": "https://localhost:8080/"
        },
        "id": "dJHhnNrTebHE",
        "outputId": "ae2b2029-b518-4a6e-bdf7-2d9ff1721a10"
      },
      "source": [
        "law_cat_cd = ds.distinct('LAW_CAT_CD')\n",
        "\n",
        "for i in law_cat_cd:\n",
        "  print(i)"
      ],
      "execution_count": 155,
      "outputs": [
        {
          "output_type": "stream",
          "text": [
            "F\n",
            "M\n",
            "\n",
            "I\n",
            "V\n"
          ],
          "name": "stdout"
        }
      ]
    },
    {
      "cell_type": "markdown",
      "metadata": {
        "id": "gBSstV5j09kA"
      },
      "source": [
        "**Data fix: Change abbreviation of LAW_CAT_CD to long form.**"
      ]
    },
    {
      "cell_type": "code",
      "metadata": {
        "colab": {
          "base_uri": "https://localhost:8080/"
        },
        "id": "x05yPU2p1IK3",
        "outputId": "80f4bc22-3840-4998-9172-d2184fe3e0d6"
      },
      "source": [
        "law_cat_cd_dict = {\n",
        "    'F': 'Felony',\n",
        "    'M': 'Misdemeanor',\n",
        "    'V': 'Violation',\n",
        "    'I': 'Traffic Infraction',\n",
        "    '': 'Unknown'\n",
        "}\n",
        "\n",
        "fix = update(fix, columns='LAW_CAT_CD', func=law_cat_cd_dict)\n",
        "\n",
        "fix['LAW_CAT_CD'].unique()"
      ],
      "execution_count": 156,
      "outputs": [
        {
          "output_type": "execute_result",
          "data": {
            "text/plain": [
              "array(['Felony', 'Misdemeanor', 'Unknown', 'Traffic Infraction',\n",
              "       'Violation'], dtype=object)"
            ]
          },
          "metadata": {
            "tags": []
          },
          "execution_count": 156
        }
      ]
    },
    {
      "cell_type": "markdown",
      "metadata": {
        "id": "d5SRi-RqpWB6"
      },
      "source": [
        "**Data fix: Change abbreviation of PERP_SEX to long form.**"
      ]
    },
    {
      "cell_type": "code",
      "metadata": {
        "colab": {
          "base_uri": "https://localhost:8080/"
        },
        "id": "tyTImZNwpacX",
        "outputId": "04d227b1-cefc-4ea9-e6f1-fa638f7d2c32"
      },
      "source": [
        "perp_sex_dict = {\n",
        "    'F': 'Female',\n",
        "    'M': 'Male',\n",
        "}\n",
        "\n",
        "fix = update(fix, columns='PERP_SEX', func=perp_sex_dict)\n",
        "\n",
        "fix['PERP_SEX'].unique()"
      ],
      "execution_count": 157,
      "outputs": [
        {
          "output_type": "execute_result",
          "data": {
            "text/plain": [
              "array(['Male', 'Female'], dtype=object)"
            ]
          },
          "metadata": {
            "tags": []
          },
          "execution_count": 157
        }
      ]
    },
    {
      "cell_type": "markdown",
      "metadata": {
        "id": "Ybk5SbSKe-mK"
      },
      "source": [
        "**Data issues: There are unnecessary columns in our dataset that we don't care about such as X_COORD_CD and Y_COORD_CD which list midblock X and Y-coordinate for New York State Plane Coordinate System, Long Island Zone, NAD 83, units feet (FIPS 3104)**"
      ]
    },
    {
      "cell_type": "code",
      "metadata": {
        "colab": {
          "base_uri": "https://localhost:8080/",
          "height": 204
        },
        "id": "8-svAokFfH7c",
        "outputId": "d15eb634-51cc-43d5-c217-322ec72634ce"
      },
      "source": [
        "display = ds.select(['X_COORD_CD','Y_COORD_CD']).to_df()\n",
        "\n",
        "display.head()"
      ],
      "execution_count": 176,
      "outputs": [
        {
          "output_type": "execute_result",
          "data": {
            "text/html": [
              "<div>\n",
              "<style scoped>\n",
              "    .dataframe tbody tr th:only-of-type {\n",
              "        vertical-align: middle;\n",
              "    }\n",
              "\n",
              "    .dataframe tbody tr th {\n",
              "        vertical-align: top;\n",
              "    }\n",
              "\n",
              "    .dataframe thead th {\n",
              "        text-align: right;\n",
              "    }\n",
              "</style>\n",
              "<table border=\"1\" class=\"dataframe\">\n",
              "  <thead>\n",
              "    <tr style=\"text-align: right;\">\n",
              "      <th></th>\n",
              "      <th>X_COORD_CD</th>\n",
              "      <th>Y_COORD_CD</th>\n",
              "    </tr>\n",
              "  </thead>\n",
              "  <tbody>\n",
              "    <tr>\n",
              "      <th>0</th>\n",
              "      <td>1013232</td>\n",
              "      <td>236725</td>\n",
              "    </tr>\n",
              "    <tr>\n",
              "      <th>1</th>\n",
              "      <td>1025420</td>\n",
              "      <td>202485</td>\n",
              "    </tr>\n",
              "    <tr>\n",
              "      <th>2</th>\n",
              "      <td>988708</td>\n",
              "      <td>200317</td>\n",
              "    </tr>\n",
              "    <tr>\n",
              "      <th>3</th>\n",
              "      <td>984946</td>\n",
              "      <td>200203</td>\n",
              "    </tr>\n",
              "    <tr>\n",
              "      <th>4</th>\n",
              "      <td>1003606</td>\n",
              "      <td>185050</td>\n",
              "    </tr>\n",
              "  </tbody>\n",
              "</table>\n",
              "</div>"
            ],
            "text/plain": [
              "  X_COORD_CD Y_COORD_CD\n",
              "0    1013232     236725\n",
              "1    1025420     202485\n",
              "2     988708     200317\n",
              "3     984946     200203\n",
              "4    1003606     185050"
            ]
          },
          "metadata": {
            "tags": []
          },
          "execution_count": 176
        }
      ]
    },
    {
      "cell_type": "markdown",
      "metadata": {
        "id": "kZbTMcszHd6_"
      },
      "source": [
        "**Data fix: Our solution is to drop the columns.**"
      ]
    },
    {
      "cell_type": "code",
      "metadata": {
        "colab": {
          "base_uri": "https://localhost:8080/"
        },
        "id": "qxOhKyILHloa",
        "outputId": "b8620e0b-591b-4476-d1d7-982a626b9211"
      },
      "source": [
        "fix  = fix.drop(columns=['X_COORD_CD', 'Y_COORD_CD'])\n",
        "\n",
        "check_fix = fix.columns.values.tolist()\n",
        "\n",
        "print(check_fix)"
      ],
      "execution_count": 159,
      "outputs": [
        {
          "output_type": "stream",
          "text": [
            "['ARREST_KEY', 'ARREST_DATE', 'PD_CD', 'PD_DESC', 'KY_CD', 'OFNS_DESC', 'LAW_CODE', 'LAW_CAT_CD', 'ARREST_BORO', 'ARREST_PRECINCT', 'JURISDICTION_CODE', 'AGE_GROUP', 'PERP_SEX', 'PERP_RACE', 'Latitude', 'Longitude', 'New Georeferenced Column']\n"
          ],
          "name": "stdout"
        }
      ]
    },
    {
      "cell_type": "markdown",
      "metadata": {
        "id": "YJLBhRvuf623"
      },
      "source": [
        "**Data issues: Even the data description states the PD_CD supposed to have 3 digit number. We found there are values with 2 digits. Howeve, we found no issue with KY_CD as these 2 columns have similar requirements.**"
      ]
    },
    {
      "cell_type": "code",
      "metadata": {
        "colab": {
          "base_uri": "https://localhost:8080/"
        },
        "id": "By6qjc-pgYcr",
        "outputId": "f1379944-e345-4d45-99b8-60e1fc007b9f"
      },
      "source": [
        "pd_cd = ds.distinct('PD_CD')\n",
        "\n",
        "for i in ky_cd:\n",
        "  if len(i) != 3:\n",
        "    print(i)"
      ],
      "execution_count": 160,
      "outputs": [
        {
          "output_type": "stream",
          "text": [
            "\n",
            "49\n",
            "16\n",
            "0\n",
            "15\n",
            "35\n",
            "29\n",
            "30\n"
          ],
          "name": "stdout"
        }
      ]
    },
    {
      "cell_type": "markdown",
      "metadata": {
        "id": "2CGySIg1IL_F"
      },
      "source": [
        "**Data fix: Further study is needed for the fix as we don't know how PD_CD is related to the rest of the data set.**"
      ]
    },
    {
      "cell_type": "markdown",
      "metadata": {
        "id": "nlwnUhlWhWUH"
      },
      "source": [
        "**Data issues: The data ASIAN / PACIFIC ISLANDER is better to be fix by removing space between / for easier comparison for analysis later on.**"
      ]
    },
    {
      "cell_type": "code",
      "metadata": {
        "colab": {
          "base_uri": "https://localhost:8080/"
        },
        "id": "Fa1u3CoEhDGy",
        "outputId": "2bfe5812-46a6-4f11-b718-9f8207976944"
      },
      "source": [
        "race = ds.distinct('PERP_RACE')\n",
        "\n",
        "for i in race:\n",
        "  print(i)"
      ],
      "execution_count": 161,
      "outputs": [
        {
          "output_type": "stream",
          "text": [
            "BLACK\n",
            "WHITE\n",
            "WHITE HISPANIC\n",
            "BLACK HISPANIC\n",
            "ASIAN / PACIFIC ISLANDER\n",
            "UNKNOWN\n",
            "AMERICAN INDIAN/ALASKAN NATIVE\n"
          ],
          "name": "stdout"
        }
      ]
    },
    {
      "cell_type": "markdown",
      "metadata": {
        "id": "v3w2SkGW73lM"
      },
      "source": [
        "**Data fix: Remove space between ASIAN / PACIFIC ISLANDER.**"
      ]
    },
    {
      "cell_type": "code",
      "metadata": {
        "colab": {
          "base_uri": "https://localhost:8080/"
        },
        "id": "nEa9m6wS7-q2",
        "outputId": "02c9e086-698b-424c-ef50-62b81729eb1c"
      },
      "source": [
        "race_dict = {\n",
        "    'ASIAN / PACIFIC ISLANDER': 'ASIAN/PACIFIC ISLANDER',\n",
        "    'M': 'Male',\n",
        "}\n",
        "\n",
        "fix = update(fix, columns='PERP_RACE', func=race_dict)\n",
        "\n",
        "fix['PERP_RACE'].unique()"
      ],
      "execution_count": 162,
      "outputs": [
        {
          "output_type": "execute_result",
          "data": {
            "text/plain": [
              "array(['BLACK', 'WHITE', 'WHITE HISPANIC', 'BLACK HISPANIC',\n",
              "       'ASIAN/PACIFIC ISLANDER', 'UNKNOWN',\n",
              "       'AMERICAN INDIAN/ALASKAN NATIVE'], dtype=object)"
            ]
          },
          "metadata": {
            "tags": []
          },
          "execution_count": 162
        }
      ]
    },
    {
      "cell_type": "markdown",
      "metadata": {
        "id": "4S5bdlfXma0f"
      },
      "source": [
        "**Data issues: Found new issues with PD_DESC. Some spellings are incorrect. This also impacts as we want to catergorize the PD description to compare with the offense description.**"
      ]
    },
    {
      "cell_type": "code",
      "metadata": {
        "colab": {
          "base_uri": "https://localhost:8080/"
        },
        "id": "T_X6UohGl45X",
        "outputId": "2049e7ae-20dd-4ffe-d5c5-80ff12f8005b"
      },
      "source": [
        "pd = ds.select('PD_DESC').distinct()\n",
        "\n",
        "clusters = knn_clusters(\n",
        "  values=pd,\n",
        "  sim=SimilarityConstraint(func=LevenshteinDistance(), pred=GreaterThan(0.9)),\n",
        "  tokenizer=NGrams(n=4),\n",
        "  minsize=2\n",
        ")\n",
        "\n",
        "for i in clusters:\n",
        "  print(i)"
      ],
      "execution_count": 163,
      "outputs": [
        {
          "output_type": "stream",
          "text": [
            "Cluster({'NY STATE LAWS,UNCLASSIFIED MIS': 428, 'NY STATE LAWS,UNCLASSIFIED VIO': 262})\n",
            "Cluster({'AGGRAVATED HARASSMENT 2': 2365, 'AGGRAVATED HARASSMENT 1': 32})\n",
            "Cluster({'IMPRISONMENT 2,UNLAWFUL': 83, 'IMPRISONMENT 1,UNLAWFUL': 29})\n",
            "Cluster({'RECKLESS ENDANGERMENT 1': 647, 'RECKLESS ENDANGERMENT 2': 608})\n",
            "Cluster({'CONTROLLED SUBSTANCE,INTENT TO': 2400, 'CONTROLLED SUBSTANCE, INTENT T': 362})\n",
            "Cluster({'CONTROLLED SUBSTANCE, POSSESSI': 4773, 'CONTROLLED SUBSTANCE,POSSESS.': 474})\n",
            "Cluster({'CONTROLLED SUBSTANCE,SALE 3': 976, 'CONTROLLED SUBSTANCE, SALE 5': 67, 'CONTROLLED SUBSTANCE,SALE 2': 66, 'CONTROLLED SUBSTANCE,SALE 1': 56, 'CONTROLLED SUBSTANCE, SALE 4': 23})\n",
            "Cluster({'PROSTITUTION 2, UNDER 16': 4, 'PROSTITUTION 1, UNDER 11': 1})\n",
            "Cluster({'UNAUTHORIZED USE VEHICLE 3': 522, 'UNAUTHORIZED USE VEHICLE 2': 241})\n",
            "Cluster({'IMPAIRED DRIVING,DRUG': 61, 'IMPAIRED DRIVING, DRUGS': 14})\n",
            "Cluster({'TRESPASS 3, CRIMINAL': 1049, 'TRESPASS 2, CRIMINAL': 503})\n",
            "Cluster({'CUSTODIAL INTERFERENCE 2': 10, 'CUSTODIAL INTERFERENCE 1': 5})\n",
            "Cluster({'KIDNAPPING 2': 9, 'KIDNAPPING 1': 1})\n",
            "Cluster({'SALE SCHOOL GROUNDS': 40, 'SALE SCHOOL GROUNDS 4': 1})\n"
          ],
          "name": "stdout"
        }
      ]
    },
    {
      "cell_type": "markdown",
      "metadata": {
        "id": "j_ij9SFKnTVR"
      },
      "source": [
        "**Only miss spelling one is considered to be fixed such as: CONTROLLED SUBSTANCE, POSSESSI, CONTROLLED SUBSTANCE, INTENT T, CONTROLLED SUBSTANCE,POSSESS., and spaces between CONTROLLED SUBSTANCE, SALE**"
      ]
    },
    {
      "cell_type": "code",
      "metadata": {
        "colab": {
          "base_uri": "https://localhost:8080/"
        },
        "id": "Lg6dpKvcnHTo",
        "outputId": "19198360-ff33-4b5b-91a2-5209974bdf1c"
      },
      "source": [
        "pd_desc = ds.select('PD_DESC').distinct()\n",
        "\n",
        "for i in pd_desc:\n",
        "  if 'CONTROLLED SUBSTANCE,' in i:\n",
        "    print(i)"
      ],
      "execution_count": 164,
      "outputs": [
        {
          "output_type": "stream",
          "text": [
            "CONTROLLED SUBSTANCE, POSSESSI\n",
            "CONTROLLED SUBSTANCE,INTENT TO\n",
            "CONTROLLED SUBSTANCE, INTENT T\n",
            "CONTROLLED SUBSTANCE,SALE 3\n",
            "CONTROLLED SUBSTANCE, SALE 5\n",
            "CONTROLLED SUBSTANCE,POSSESS.\n",
            "CONTROLLED SUBSTANCE,SALE 1\n",
            "CONTROLLED SUBSTANCE, SALE 4\n",
            "CONTROLLED SUBSTANCE,SALE 2\n"
          ],
          "name": "stdout"
        }
      ]
    },
    {
      "cell_type": "markdown",
      "metadata": {
        "id": "jCTbx94t-ICt"
      },
      "source": [
        "**Data fix: Change spacing in SALE and spelling to POSSESSION**\n",
        "\n"
      ]
    },
    {
      "cell_type": "code",
      "metadata": {
        "colab": {
          "base_uri": "https://localhost:8080/"
        },
        "id": "38N9u19W99_k",
        "outputId": "0566dea1-f83a-4ed4-d222-a6ffe32f7fec"
      },
      "source": [
        "control_dict = {\n",
        "    'CONTROLLED SUBSTANCE, POSSESSI': 'CONTROLLED SUBSTANCE, POSSESSION',\n",
        "    'CONTROLLED SUBSTANCE,POSSESS.': 'CONTROLLED SUBSTANCE, POSSESSION',\n",
        "    'CONTROLLED SUBSTANCE,INTENT TO': 'CONTROLLED SUBSTANCE, INTENT',\n",
        "    'CONTROLLED SUBSTANCE, INTENT T': 'CONTROLLED SUBSTANCE, INTENT',\n",
        "    'CONTROLLED SUBSTANCE,SALE 3': 'CONTROLLED SUBSTANCE, SALE 3',\n",
        "    'CONTROLLED SUBSTANCE,SALE 1': 'CONTROLLED SUBSTANCE, SALE 1',\n",
        "    'CONTROLLED SUBSTANCE,SALE 2': 'CONTROLLED SUBSTANCE, SALE 2'\n",
        "}\n",
        "\n",
        "fix = update(fix, columns='PD_DESC', func=control_dict)\n",
        "\n",
        "\n",
        "check_fix = fix[fix['PD_DESC'].str.contains('CONTROLLED SUBSTANCE')]\n",
        "check_fix['PD_DESC'].unique()"
      ],
      "execution_count": 165,
      "outputs": [
        {
          "output_type": "execute_result",
          "data": {
            "text/plain": [
              "array(['CONTROLLED SUBSTANCE, POSSESSION', 'CONTROLLED SUBSTANCE, INTENT',\n",
              "       'CONTROLLED SUBSTANCE, SALE 3', 'CONTROLLED SUBSTANCE, SALE 5',\n",
              "       'CONTROLLED SUBSTANCE, SALE 1', 'CONTROLLED SUBSTANCE, SALE 4',\n",
              "       'CONTROLLED SUBSTANCE, SALE 2'], dtype=object)"
            ]
          },
          "metadata": {
            "tags": []
          },
          "execution_count": 165
        }
      ]
    },
    {
      "cell_type": "markdown",
      "metadata": {
        "id": "uLCdVv9aoPuT"
      },
      "source": [
        "**Only fix DRUG spelling**"
      ]
    },
    {
      "cell_type": "code",
      "metadata": {
        "colab": {
          "base_uri": "https://localhost:8080/"
        },
        "id": "4d6h7i-Pn6pR",
        "outputId": "eaf5ffff-c5f0-4a8a-9769-8ee3296fc11c"
      },
      "source": [
        "pd_desc = ds.select('PD_DESC').distinct()\n",
        "\n",
        "for i in pd_desc:\n",
        "  if 'IMPAIRED DRIVING' in i:\n",
        "    print(i)"
      ],
      "execution_count": 166,
      "outputs": [
        {
          "output_type": "stream",
          "text": [
            "IMPAIRED DRIVING,DRUG\n",
            "IMPAIRED DRIVING / ALCOHOL\n",
            "IMPAIRED DRIVING, DRUGS\n"
          ],
          "name": "stdout"
        }
      ]
    },
    {
      "cell_type": "markdown",
      "metadata": {
        "id": "wJd2tpSz9PkD"
      },
      "source": [
        "**Data fix: Fix DRUG spelling.**"
      ]
    },
    {
      "cell_type": "code",
      "metadata": {
        "colab": {
          "base_uri": "https://localhost:8080/"
        },
        "id": "1FEkNPoq9TmH",
        "outputId": "8fff6477-4249-4dab-cc44-196d501befc4"
      },
      "source": [
        "impair_dict = {\n",
        "    'IMPAIRED DRIVING, DRUGS': 'IMPAIRED DRIVING,DRUG'\n",
        "}\n",
        "\n",
        "fix = update(fix, columns='PD_DESC', func=impair_dict)\n",
        "\n",
        "check_fix = fix.loc[fix['PD_DESC'].isin(['IMPAIRED DRIVING, DRUGS', 'IMPAIRED DRIVING,DRUG'])]\n",
        "\n",
        "check_fix['PD_DESC'].unique()"
      ],
      "execution_count": 167,
      "outputs": [
        {
          "output_type": "execute_result",
          "data": {
            "text/plain": [
              "array(['IMPAIRED DRIVING,DRUG'], dtype=object)"
            ]
          },
          "metadata": {
            "tags": []
          },
          "execution_count": 167
        }
      ]
    },
    {
      "cell_type": "markdown",
      "metadata": {
        "id": "ope39s3_larE"
      },
      "source": [
        "**Data study: Perform a scan to check date format. No issues found.**"
      ]
    },
    {
      "cell_type": "code",
      "metadata": {
        "id": "vZsFmLZthtMl"
      },
      "source": [
        "date = ds.distinct('ARREST_DATE')\n",
        "\n",
        "import datetime \n",
        "def validate(date_text):\n",
        "    try:\n",
        "        datetime.datetime.strptime(date_text, '%m/%d/%Y')\n",
        "    except ValueError:\n",
        "        print(date_text)\n",
        "        #raise ValueError(\"Incorrect data format, should be YYYY-MM-DD\")\n",
        "\n",
        "for i in date:\n",
        "  validate(i)"
      ],
      "execution_count": 168,
      "outputs": []
    },
    {
      "cell_type": "markdown",
      "metadata": {
        "id": "FvOUhSTjiPd9"
      },
      "source": [
        "**Finalize data set: Save data clean file to csv file for analysis.**"
      ]
    },
    {
      "cell_type": "code",
      "metadata": {
        "id": "Xg3HcxfiiXK9"
      },
      "source": [
        "fix.to_csv(r'arrest_data_clean.csv')"
      ],
      "execution_count": 169,
      "outputs": []
    }
  ]
}